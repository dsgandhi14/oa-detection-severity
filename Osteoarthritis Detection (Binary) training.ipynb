{
 "cells": [
  {
   "cell_type": "code",
   "execution_count": 1,
   "id": "40193150-8fb9-45d2-aa0d-763eba9235dc",
   "metadata": {},
   "outputs": [],
   "source": [
    "from sklearn.model_selection import train_test_split\n",
    "import numpy as np\n",
    "from tensorflow.keras.models import Model\n",
    "from tensorflow.keras.layers import Conv2D, MaxPooling2D, Dense, Flatten, Dropout, GlobalAveragePooling2D\n",
    "from tensorflow.keras.losses import SparseCategoricalCrossentropy, BinaryCrossentropy\n",
    "from tensorflow.keras.applications.vgg16 import VGG16\n",
    "from tensorflow.keras.applications.vgg16 import preprocess_input\n",
    "from tensorflow.keras.preprocessing.image import ImageDataGenerator\n",
    "from tensorflow.keras.optimizers import Adam,SGD\n",
    "from tensorflow.keras.regularizers import L2\n",
    "from tensorflow.keras.callbacks import EarlyStopping, ModelCheckpoint\n",
    "from tensorflow.keras.metrics import AUC\n",
    "from PIL import Image\n",
    "import os"
   ]
  },
  {
   "cell_type": "code",
   "execution_count": 2,
   "id": "f4eb35e9-fe85-4aa4-b013-a22da9151725",
   "metadata": {},
   "outputs": [],
   "source": [
    "# Defining data loading function\n",
    "m_train=#Enter Number of training examples (int)\n",
    "imagePath=\"Enter Path of Training Data Folder Here\"\n",
    "def loadData(m,path):\n",
    "    dirlist=[(i,os.path.join(path,i)) for i in os.listdir(path)]\n",
    "    x = np.zeros(shape=(m,224,224,3))\n",
    "    y = np.zeros(shape=(m,1),dtype=int)\n",
    "\n",
    "    \n",
    "    shift=0\n",
    "    for idx,path in dirlist:\n",
    "        imgList=[os.path.join(path,k) for k in os.listdir(path)]\n",
    "        \n",
    "        for p in range(len(imgList)):\n",
    "            x[p+shift]=np.array(Image.open(imgList[p]).convert(\"RGB\"))      \n",
    "            y[p+shift]=(idx!='0')\n",
    "        shift+=len(imgList)\n",
    "    \n",
    "   \n",
    "    return  x,y\n",
    "                      "
   ]
  },
  {
   "cell_type": "code",
   "execution_count": 3,
   "id": "60865143-8bb9-4bf4-91e6-a19d32f22521",
   "metadata": {},
   "outputs": [],
   "source": [
    "#Loading Data\n",
    "x_train,y_train=loadData(m_train,imagePath)"
   ]
  },
  {
   "cell_type": "code",
   "execution_count": 4,
   "id": "02b5d092-64c8-40fe-93a1-55d6b0852ac5",
   "metadata": {},
   "outputs": [],
   "source": [
    "#Data Augmentation\n",
    "train_gen=ImageDataGenerator(horizontal_flip=True,width_shift_range=0.1,height_shift_range=0.1,\n",
    "                             preprocessing_function=preprocess_input)\n",
    "training_set=train_gen.flow(x_train,y_train,batch_size=32)"
   ]
  },
  {
   "cell_type": "code",
   "execution_count": 2,
   "id": "a74eee3c-0f74-4400-805c-71035e79bd3b",
   "metadata": {},
   "outputs": [],
   "source": [
    "#Finalized architecture provides best performance\n",
    "vgg=VGG16(input_shape=(224,224,3),weights=\"imagenet\",include_top=False)\n",
    "final_output=Flatten()(vgg.output)\n",
    "final_output=Dense(units=512,activation ='leaky_relu')(final_output)\n",
    "final_output=Dense(units=512,activation ='leaky_relu')(final_output)\n",
    "final_output=Dense(units=1,activation=\"linear\")(final_output)\n",
    "model=Model(inputs=vgg.input,outputs=final_output)"
   ]
  },
  {
   "cell_type": "code",
   "execution_count": 3,
   "id": "e54ab193-1b37-43fb-a0d5-a04341415d92",
   "metadata": {},
   "outputs": [
    {
     "name": "stdout",
     "output_type": "stream",
     "text": [
      "Model: \"model\"\n",
      "_________________________________________________________________\n",
      " Layer (type)                Output Shape              Param #   \n",
      "=================================================================\n",
      " input_1 (InputLayer)        [(None, 224, 224, 3)]     0         \n",
      "                                                                 \n",
      " block1_conv1 (Conv2D)       (None, 224, 224, 64)      1792      \n",
      "                                                                 \n",
      " block1_conv2 (Conv2D)       (None, 224, 224, 64)      36928     \n",
      "                                                                 \n",
      " block1_pool (MaxPooling2D)  (None, 112, 112, 64)      0         \n",
      "                                                                 \n",
      " block2_conv1 (Conv2D)       (None, 112, 112, 128)     73856     \n",
      "                                                                 \n",
      " block2_conv2 (Conv2D)       (None, 112, 112, 128)     147584    \n",
      "                                                                 \n",
      " block2_pool (MaxPooling2D)  (None, 56, 56, 128)       0         \n",
      "                                                                 \n",
      " block3_conv1 (Conv2D)       (None, 56, 56, 256)       295168    \n",
      "                                                                 \n",
      " block3_conv2 (Conv2D)       (None, 56, 56, 256)       590080    \n",
      "                                                                 \n",
      " block3_conv3 (Conv2D)       (None, 56, 56, 256)       590080    \n",
      "                                                                 \n",
      " block3_pool (MaxPooling2D)  (None, 28, 28, 256)       0         \n",
      "                                                                 \n",
      " block4_conv1 (Conv2D)       (None, 28, 28, 512)       1180160   \n",
      "                                                                 \n",
      " block4_conv2 (Conv2D)       (None, 28, 28, 512)       2359808   \n",
      "                                                                 \n",
      " block4_conv3 (Conv2D)       (None, 28, 28, 512)       2359808   \n",
      "                                                                 \n",
      " block4_pool (MaxPooling2D)  (None, 14, 14, 512)       0         \n",
      "                                                                 \n",
      " block5_conv1 (Conv2D)       (None, 14, 14, 512)       2359808   \n",
      "                                                                 \n",
      " block5_conv2 (Conv2D)       (None, 14, 14, 512)       2359808   \n",
      "                                                                 \n",
      " block5_conv3 (Conv2D)       (None, 14, 14, 512)       2359808   \n",
      "                                                                 \n",
      " block5_pool (MaxPooling2D)  (None, 7, 7, 512)         0         \n",
      "                                                                 \n",
      " flatten (Flatten)           (None, 25088)             0         \n",
      "                                                                 \n",
      " dense (Dense)               (None, 512)               12845568  \n",
      "                                                                 \n",
      " dense_1 (Dense)             (None, 512)               262656    \n",
      "                                                                 \n",
      " dense_2 (Dense)             (None, 1)                 513       \n",
      "                                                                 \n",
      "=================================================================\n",
      "Total params: 27,823,425\n",
      "Trainable params: 27,823,425\n",
      "Non-trainable params: 0\n",
      "_________________________________________________________________\n"
     ]
    }
   ],
   "source": [
    "model.compile(loss=BinaryCrossentropy(from_logits=True),optimizer=Adam(0.00005),metrics=['accuracy',AUC(from_logits=True)])\n",
    "model.summary()"
   ]
  },
  {
   "cell_type": "code",
   "execution_count": null,
   "id": "ff17b543-35b2-4c34-bed0-f3b83abee6da",
   "metadata": {},
   "outputs": [],
   "source": [
    "#Training the model\n",
    "model.fit(training_set,epochs=15,steps_per_epoch=197,callbacks=[EarlyStopping(monitor='loss',patience=3,verbose=1),ModelCheckpoint(filepath=\"Enter filepath for saving checkpoints\",save_weights_only=True)])"
   ]
  }
 ],
 "metadata": {
  "kernelspec": {
   "display_name": "Python [conda env:tflow210]",
   "language": "python",
   "name": "conda-env-tflow210-py"
  },
  "language_info": {
   "codemirror_mode": {
    "name": "ipython",
    "version": 3
   },
   "file_extension": ".py",
   "mimetype": "text/x-python",
   "name": "python",
   "nbconvert_exporter": "python",
   "pygments_lexer": "ipython3",
   "version": "3.9.20"
  }
 },
 "nbformat": 4,
 "nbformat_minor": 5
}
