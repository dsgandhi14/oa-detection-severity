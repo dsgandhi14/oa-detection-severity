{
 "cells": [
  {
   "cell_type": "code",
   "execution_count": 1,
   "id": "a8a4961d-4532-4944-9ece-1573af262e44",
   "metadata": {},
   "outputs": [],
   "source": [
    "import numpy as np\n",
    "from tensorflow.keras.models import Sequential, Model\n",
    "from tensorflow.keras.layers import Conv2D, MaxPooling2D, Dense, Flatten, Dropout, GlobalAveragePooling2D\n",
    "from tensorflow.keras.losses import SparseCategoricalCrossentropy, BinaryCrossentropy\n",
    "from tensorflow.keras.applications.vgg16 import VGG16\n",
    "from tensorflow.keras.applications.vgg16 import preprocess_input\n",
    "from tensorflow.keras.optimizers import Adam\n",
    "from tensorflow.keras.regularizers import L2\n",
    "from tensorflow.keras.metrics import AUC\n",
    "from tensorflow.nn import softmax, sigmoid\n",
    "from PIL import Image\n",
    "import os"
   ]
  },
  {
   "cell_type": "code",
   "execution_count": 2,
   "id": "ae69413b-2d2d-4545-ac37-67bc23f7fcfb",
   "metadata": {},
   "outputs": [],
   "source": [
    "#Load Test data \n",
    "def loadData(m,path):\n",
    "    dirlist=[(i,os.path.join(path,i)) for i in os.listdir(path)]\n",
    "    x = np.zeros(shape=(m,224,224,3))\n",
    "    y = np.zeros(shape=(m,1),dtype=int)\n",
    "\n",
    "    y_cat=np.zeros(shape=(m,1),dtype=int)\n",
    "   \n",
    "    \n",
    "    shift=0\n",
    "    for idx,path in dirlist:\n",
    "        imgList=[os.path.join(path,k) for k in os.listdir(path)]\n",
    "        \n",
    "        for p in range(len(imgList)):\n",
    "            x[p+shift]=np.array(Image.open(imgList[p]).convert(\"RGB\"))      \n",
    "            y[p+shift]=(idx!='0')\n",
    "            y_cat[p+shift]=int(idx)\n",
    "        shift+=len(imgList)\n",
    "    \n",
    "    \n",
    "    return  x,y,y_cat\n",
    "                      "
   ]
  },
  {
   "cell_type": "code",
   "execution_count": null,
   "id": "ed8198cd-7d87-4cad-b22c-a8e7eaa23b10",
   "metadata": {},
   "outputs": [],
   "source": [
    "#Load test data\n",
    "test_Path=\"Enter test data folder path here\"\n",
    "x_test,y_test,y_testSev=loadData(1656,test_Path)\n",
    "preprocess_input(x_test)"
   ]
  },
  {
   "cell_type": "code",
   "execution_count": 4,
   "id": "271a2d06-6d8d-4ec9-95fa-cae9d622943a",
   "metadata": {},
   "outputs": [],
   "source": [
    "# Severity Grading (Categorical Model) Architecture\n",
    "vgg=VGG16(input_shape=(224,224,3),weights=\"imagenet\",include_top=False)\n",
    "final_output=Flatten()(vgg.output)\n",
    "final_output=Dense(units=512,activation ='leaky_relu')(final_output)\n",
    "final_output=Dense(units=512,activation ='leaky_relu')(final_output)\n",
    "final_output=Dense(units=5,activation=\"linear\")(final_output)\n",
    "model=Model(inputs=vgg.input,outputs=final_output)"
   ]
  },
  {
   "cell_type": "code",
   "execution_count": 5,
   "id": "7bc21d14-7049-405e-8963-385973ea16c4",
   "metadata": {},
   "outputs": [
    {
     "name": "stdout",
     "output_type": "stream",
     "text": [
      "Model: \"model\"\n",
      "_________________________________________________________________\n",
      " Layer (type)                Output Shape              Param #   \n",
      "=================================================================\n",
      " input_1 (InputLayer)        [(None, 224, 224, 3)]     0         \n",
      "                                                                 \n",
      " block1_conv1 (Conv2D)       (None, 224, 224, 64)      1792      \n",
      "                                                                 \n",
      " block1_conv2 (Conv2D)       (None, 224, 224, 64)      36928     \n",
      "                                                                 \n",
      " block1_pool (MaxPooling2D)  (None, 112, 112, 64)      0         \n",
      "                                                                 \n",
      " block2_conv1 (Conv2D)       (None, 112, 112, 128)     73856     \n",
      "                                                                 \n",
      " block2_conv2 (Conv2D)       (None, 112, 112, 128)     147584    \n",
      "                                                                 \n",
      " block2_pool (MaxPooling2D)  (None, 56, 56, 128)       0         \n",
      "                                                                 \n",
      " block3_conv1 (Conv2D)       (None, 56, 56, 256)       295168    \n",
      "                                                                 \n",
      " block3_conv2 (Conv2D)       (None, 56, 56, 256)       590080    \n",
      "                                                                 \n",
      " block3_conv3 (Conv2D)       (None, 56, 56, 256)       590080    \n",
      "                                                                 \n",
      " block3_pool (MaxPooling2D)  (None, 28, 28, 256)       0         \n",
      "                                                                 \n",
      " block4_conv1 (Conv2D)       (None, 28, 28, 512)       1180160   \n",
      "                                                                 \n",
      " block4_conv2 (Conv2D)       (None, 28, 28, 512)       2359808   \n",
      "                                                                 \n",
      " block4_conv3 (Conv2D)       (None, 28, 28, 512)       2359808   \n",
      "                                                                 \n",
      " block4_pool (MaxPooling2D)  (None, 14, 14, 512)       0         \n",
      "                                                                 \n",
      " block5_conv1 (Conv2D)       (None, 14, 14, 512)       2359808   \n",
      "                                                                 \n",
      " block5_conv2 (Conv2D)       (None, 14, 14, 512)       2359808   \n",
      "                                                                 \n",
      " block5_conv3 (Conv2D)       (None, 14, 14, 512)       2359808   \n",
      "                                                                 \n",
      " block5_pool (MaxPooling2D)  (None, 7, 7, 512)         0         \n",
      "                                                                 \n",
      " flatten (Flatten)           (None, 25088)             0         \n",
      "                                                                 \n",
      " dense (Dense)               (None, 512)               12845568  \n",
      "                                                                 \n",
      " dense_1 (Dense)             (None, 512)               262656    \n",
      "                                                                 \n",
      " dense_2 (Dense)             (None, 5)                 2565      \n",
      "                                                                 \n",
      "=================================================================\n",
      "Total params: 27,825,477\n",
      "Trainable params: 27,825,477\n",
      "Non-trainable params: 0\n",
      "_________________________________________________________________\n"
     ]
    }
   ],
   "source": [
    "model.compile(loss=SparseCategoricalCrossentropy(from_logits=True),metrics=['sparse_categorical_accuracy'])\n",
    "model.summary()"
   ]
  },
  {
   "cell_type": "code",
   "execution_count": 6,
   "id": "4aea7067-39a2-47d3-a97a-39347bfe7ee3",
   "metadata": {},
   "outputs": [],
   "source": [
    "model.load_weights(\"Enter path for trained weights\")"
   ]
  },
  {
   "cell_type": "code",
   "execution_count": 7,
   "id": "d4bb7517-3f39-4021-933e-a7d107bddf1b",
   "metadata": {},
   "outputs": [
    {
     "name": "stdout",
     "output_type": "stream",
     "text": [
      "52/52 [==============================] - 20s 224ms/step - loss: 0.7363 - sparse_categorical_accuracy: 0.6975\n"
     ]
    },
    {
     "data": {
      "text/plain": [
       "[0.7363157272338867, 0.6974637508392334]"
      ]
     },
     "execution_count": 7,
     "metadata": {},
     "output_type": "execute_result"
    }
   ],
   "source": [
    "model.evaluate(x_test,y_testSev,batch_size=32)"
   ]
  },
  {
   "cell_type": "code",
   "execution_count": 4,
   "id": "c6b624c6-f6ac-44d0-9ebc-cccfbdee86a2",
   "metadata": {},
   "outputs": [],
   "source": [
    "# Osteoarthritis Detection (Binary Model) Architecture\n",
    "vgg_p=VGG16(input_shape=(224,224,3),weights=\"imagenet\",include_top=False)\n",
    "final_output_p=Flatten()(vgg_p.output)\n",
    "final_output_p=Dense(units=512,activation ='leaky_relu')(final_output_p)\n",
    "final_output_p=Dense(units=512,activation ='leaky_relu')(final_output_p)\n",
    "final_output_p=Dense(units=1,activation=\"linear\")(final_output_p)\n",
    "model_p=Model(inputs=vgg_p.input,outputs=final_output_p)"
   ]
  },
  {
   "cell_type": "code",
   "execution_count": 6,
   "id": "9b527d14-db69-40f3-97ee-c4b8423482f9",
   "metadata": {},
   "outputs": [
    {
     "name": "stdout",
     "output_type": "stream",
     "text": [
      "Model: \"model\"\n",
      "_________________________________________________________________\n",
      " Layer (type)                Output Shape              Param #   \n",
      "=================================================================\n",
      " input_1 (InputLayer)        [(None, 224, 224, 3)]     0         \n",
      "                                                                 \n",
      " block1_conv1 (Conv2D)       (None, 224, 224, 64)      1792      \n",
      "                                                                 \n",
      " block1_conv2 (Conv2D)       (None, 224, 224, 64)      36928     \n",
      "                                                                 \n",
      " block1_pool (MaxPooling2D)  (None, 112, 112, 64)      0         \n",
      "                                                                 \n",
      " block2_conv1 (Conv2D)       (None, 112, 112, 128)     73856     \n",
      "                                                                 \n",
      " block2_conv2 (Conv2D)       (None, 112, 112, 128)     147584    \n",
      "                                                                 \n",
      " block2_pool (MaxPooling2D)  (None, 56, 56, 128)       0         \n",
      "                                                                 \n",
      " block3_conv1 (Conv2D)       (None, 56, 56, 256)       295168    \n",
      "                                                                 \n",
      " block3_conv2 (Conv2D)       (None, 56, 56, 256)       590080    \n",
      "                                                                 \n",
      " block3_conv3 (Conv2D)       (None, 56, 56, 256)       590080    \n",
      "                                                                 \n",
      " block3_pool (MaxPooling2D)  (None, 28, 28, 256)       0         \n",
      "                                                                 \n",
      " block4_conv1 (Conv2D)       (None, 28, 28, 512)       1180160   \n",
      "                                                                 \n",
      " block4_conv2 (Conv2D)       (None, 28, 28, 512)       2359808   \n",
      "                                                                 \n",
      " block4_conv3 (Conv2D)       (None, 28, 28, 512)       2359808   \n",
      "                                                                 \n",
      " block4_pool (MaxPooling2D)  (None, 14, 14, 512)       0         \n",
      "                                                                 \n",
      " block5_conv1 (Conv2D)       (None, 14, 14, 512)       2359808   \n",
      "                                                                 \n",
      " block5_conv2 (Conv2D)       (None, 14, 14, 512)       2359808   \n",
      "                                                                 \n",
      " block5_conv3 (Conv2D)       (None, 14, 14, 512)       2359808   \n",
      "                                                                 \n",
      " block5_pool (MaxPooling2D)  (None, 7, 7, 512)         0         \n",
      "                                                                 \n",
      " flatten (Flatten)           (None, 25088)             0         \n",
      "                                                                 \n",
      " dense (Dense)               (None, 512)               12845568  \n",
      "                                                                 \n",
      " dense_1 (Dense)             (None, 512)               262656    \n",
      "                                                                 \n",
      " dense_2 (Dense)             (None, 1)                 513       \n",
      "                                                                 \n",
      "=================================================================\n",
      "Total params: 27,823,425\n",
      "Trainable params: 27,823,425\n",
      "Non-trainable params: 0\n",
      "_________________________________________________________________\n"
     ]
    }
   ],
   "source": [
    "model_p.compile(loss=BinaryCrossentropy(from_logits=True),metrics=['accuracy',AUC(from_logits=True)])\n",
    "model_p.summary()"
   ]
  },
  {
   "cell_type": "code",
   "execution_count": 7,
   "id": "2ea219ed-bdc4-4091-a462-1e6e64f41e16",
   "metadata": {},
   "outputs": [],
   "source": [
    "model_p.load_weights(\"Enter path for trained weights\")"
   ]
  },
  {
   "cell_type": "code",
   "execution_count": 8,
   "id": "43988978-3685-4a49-9e0e-2f0e5dbf3df0",
   "metadata": {},
   "outputs": [
    {
     "name": "stdout",
     "output_type": "stream",
     "text": [
      "52/52 [==============================] - 19s 223ms/step - loss: 0.3683 - accuracy: 0.8357 - auc: 0.9121\n"
     ]
    },
    {
     "data": {
      "text/plain": [
       "[0.36826634407043457, 0.8357487916946411, 0.9121353030204773]"
      ]
     },
     "execution_count": 8,
     "metadata": {},
     "output_type": "execute_result"
    }
   ],
   "source": [
    "model_p.evaluate(x_test,y_test,batch_size=32)"
   ]
  },
  {
   "cell_type": "code",
   "execution_count": null,
   "id": "39754bf5-8da5-4ee3-8872-1fff6a597a90",
   "metadata": {},
   "outputs": [],
   "source": [
    "#Accuracy measurement using both models together (single batch)\n",
    "acc=np.zeros(#enter number of testing example (int),dtype=int)\n",
    "accs=np.zeros(#enter number of testing example (int),dtype=int)\n",
    "for case in range(len(x_test)):\n",
    "    tmp=x_test[case].reshape(-1,224,224,3)\n",
    "    if(sigmoid(model_p.predict(tmp))>0.5):\n",
    "        \n",
    "        acc[case]=int(y_test[case][0]==1)\n",
    "        severity=np.argmax(softmax(model.predict(tmp)))\n",
    "        accs[case]=int(y_testSev[case][0]==severity)\n",
    "    else:\n",
    "        acc[case]=int(y_test[case][0]==0)\n",
    "        accs[case]=int(y_testSev[case][0]==0)\n",
    "print(np.mean(acc))\n",
    "print(np.mean(accs))"
   ]
  }
 ],
 "metadata": {
  "kernelspec": {
   "display_name": "Python [conda env:tflow210]",
   "language": "python",
   "name": "conda-env-tflow210-py"
  },
  "language_info": {
   "codemirror_mode": {
    "name": "ipython",
    "version": 3
   },
   "file_extension": ".py",
   "mimetype": "text/x-python",
   "name": "python",
   "nbconvert_exporter": "python",
   "pygments_lexer": "ipython3",
   "version": "3.9.20"
  }
 },
 "nbformat": 4,
 "nbformat_minor": 5
}
